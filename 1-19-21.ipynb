{
 "cells": [
  {
   "cell_type": "markdown",
   "id": "comic-flush",
   "metadata": {},
   "source": [
    "# Algorithm practice\n",
    "## Tuesday, January 19, 2021"
   ]
  },
  {
   "cell_type": "markdown",
   "id": "convinced-allah",
   "metadata": {},
   "source": [
    "Given a string, you need to reverse the order of characters in each word within a sentence while still preserving whitespace and initial word order.\n",
    "\n",
    "\n",
    "Example 1:<br>\n",
    "Input: \"Let's take LeetCode contest\"<br>\n",
    "Output: \"s'teL ekat edoCteeL tsetnoc\"\n",
    "\n",
    "\n",
    "Note: In the string, each word is separated by single space and there will not be any extra space in the string."
   ]
  },
  {
   "cell_type": "code",
   "execution_count": 63,
   "id": "functional-briefing",
   "metadata": {},
   "outputs": [],
   "source": [
    "def reverseWords(str):\n",
    "    def split(word): \n",
    "        return [char for char in word]\n",
    "    str = str.split()\n",
    "    for i in range (len(str)):\n",
    "        str[i] = split(str[i])\n",
    "    for i in range (len(str)):\n",
    "        for j in range (len(str[i])//2):\n",
    "            temp = str[i][j]\n",
    "            str[i][j] = str[i][len(str[i])-1-j]\n",
    "            str[i][len(str[i])-1-j] = temp\n",
    "    for i in range (len(str)):\n",
    "        str[i] = \"\".join(str[i])\n",
    "    return \" \".join(str)"
   ]
  },
  {
   "cell_type": "code",
   "execution_count": 64,
   "id": "simplified-excess",
   "metadata": {},
   "outputs": [
    {
     "data": {
      "text/plain": [
       "\"s'teL ekat edoCteeL tsetnoc\""
      ]
     },
     "execution_count": 64,
     "metadata": {},
     "output_type": "execute_result"
    }
   ],
   "source": [
    "reverseWords(\"Let's take LeetCode contest\") #should return: \"s'teL ekat edoCteeL tsetnoc\""
   ]
  },
  {
   "cell_type": "code",
   "execution_count": 75,
   "id": "mechanical-stereo",
   "metadata": {},
   "outputs": [],
   "source": [
    "def reverseWordsCondensed(s):\n",
    "    print(s[::-1])\n",
    "    l = s[::-1].split()[::-1]\n",
    "    return \" \".join(l)"
   ]
  },
  {
   "cell_type": "code",
   "execution_count": 76,
   "id": "indie-radical",
   "metadata": {},
   "outputs": [
    {
     "name": "stdout",
     "output_type": "stream",
     "text": [
      "tsetnoc edoCteeL ekat s'teL\n"
     ]
    },
    {
     "data": {
      "text/plain": [
       "\"s'teL ekat edoCteeL tsetnoc\""
      ]
     },
     "execution_count": 76,
     "metadata": {},
     "output_type": "execute_result"
    }
   ],
   "source": [
    "reverseWordsCondensed(\"Let's take LeetCode contest\") #should return: \"s'teL ekat edoCteeL tsetnoc\""
   ]
  },
  {
   "cell_type": "code",
   "execution_count": null,
   "id": "inner-problem",
   "metadata": {},
   "outputs": [],
   "source": []
  }
 ],
 "metadata": {
  "kernelspec": {
   "display_name": "Python 3",
   "language": "python",
   "name": "python3"
  },
  "language_info": {
   "codemirror_mode": {
    "name": "ipython",
    "version": 3
   },
   "file_extension": ".py",
   "mimetype": "text/x-python",
   "name": "python",
   "nbconvert_exporter": "python",
   "pygments_lexer": "ipython3",
   "version": "3.9.0"
  }
 },
 "nbformat": 4,
 "nbformat_minor": 5
}
