{
 "cells": [
  {
   "cell_type": "markdown",
   "id": "increased-ambassador",
   "metadata": {},
   "source": [
    "# Algorithm Practice\n",
    "## Janurary 25th, 2021"
   ]
  },
  {
   "cell_type": "markdown",
   "id": "responsible-immunology",
   "metadata": {},
   "source": [
    "Given a <strong>m x n</strong> matrix <strong>grid</strong> which is sorted in non-increasing order both row-wise and column-wise, return the <strong>number</strong> of negative numbers in <strong>grid</strong>."
   ]
  },
  {
   "cell_type": "markdown",
   "id": "imperial-cooperative",
   "metadata": {},
   "source": [
    "Example 1:\n",
    "<br>\n",
    "\n",
    "Input: grid = [[4,3,2,-1],[3,2,1,-1],[1,1,-1,-2],[-1,-1,-2,-3]]<br>\n",
    "Output: 8<br>\n",
    "Explanation: There are 8 negatives number in the matrix.<br><br>\n",
    "\n",
    "Example 2:\n",
    "<br>\n",
    "Input: grid = [[3,2],[1,0]]<br>\n",
    "Output: 0<br><br>\n",
    "\n",
    "Example 3:\n",
    "<br>\n",
    "Input: grid = [[1,-1],[-1,-1]]<br>\n",
    "Output: 3<br><br>\n",
    "\n",
    "Example 4:\n",
    "<br>\n",
    "Input: grid = [[-1]]<br>\n",
    "Output: 1"
   ]
  },
  {
   "cell_type": "code",
   "execution_count": 1,
   "id": "portuguese-modern",
   "metadata": {},
   "outputs": [],
   "source": [
    "grid1 = [[4,3,2,-1],[3,2,1,-1],[1,1,-1,-2],[-1,-1,-2,-3]]\n",
    "grid2 = [[3,2],[1,0]]\n",
    "grid3 = [[1,-1],[-1,-1]]\n",
    "grid4 = [[-1]]"
   ]
  },
  {
   "cell_type": "code",
   "execution_count": 13,
   "id": "sticky-hurricane",
   "metadata": {},
   "outputs": [],
   "source": [
    "def countNegatives(grid):\n",
    "        count = 0\n",
    "        for i in range (len(grid)):\n",
    "            for j in range(len(grid[i])):\n",
    "                if grid[i][j] < 0:\n",
    "                    count += 1\n",
    "        return count"
   ]
  },
  {
   "cell_type": "code",
   "execution_count": 14,
   "id": "proof-finance",
   "metadata": {},
   "outputs": [
    {
     "name": "stdout",
     "output_type": "stream",
     "text": [
      "8 \n",
      "\n",
      "0 \n",
      "\n",
      "3 \n",
      "\n",
      "1\n"
     ]
    }
   ],
   "source": [
    "print(countNegatives(grid1), '\\n')\n",
    "print(countNegatives(grid2), '\\n')\n",
    "print(countNegatives(grid3), '\\n')\n",
    "print(countNegatives(grid4))"
   ]
  },
  {
   "cell_type": "code",
   "execution_count": null,
   "id": "surprising-flash",
   "metadata": {},
   "outputs": [],
   "source": []
  }
 ],
 "metadata": {
  "kernelspec": {
   "display_name": "Python 3",
   "language": "python",
   "name": "python3"
  },
  "language_info": {
   "codemirror_mode": {
    "name": "ipython",
    "version": 3
   },
   "file_extension": ".py",
   "mimetype": "text/x-python",
   "name": "python",
   "nbconvert_exporter": "python",
   "pygments_lexer": "ipython3",
   "version": "3.9.0"
  }
 },
 "nbformat": 4,
 "nbformat_minor": 5
}
