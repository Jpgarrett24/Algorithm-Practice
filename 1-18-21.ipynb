{
 "cells": [
  {
   "cell_type": "markdown",
   "id": "involved-silicon",
   "metadata": {},
   "source": [
    "# Algorithms\n",
    "## January 18, 2021\n",
    "### Happy Martin Luther King Jr Day!"
   ]
  },
  {
   "cell_type": "markdown",
   "id": "varying-snowboard",
   "metadata": {},
   "source": [
    "<hr>"
   ]
  },
  {
   "cell_type": "markdown",
   "id": "czech-moore",
   "metadata": {},
   "source": [
    "Given an array of numbers <i>arr</i>. A sequence of numbers is called an arithmetic progression if the difference between any two consecutive elements is the same.\n",
    "\n",
    "Return <i>true</i> if the array can be rearranged to form an arithmetic progression, otherwise, return <i>false</i>."
   ]
  },
  {
   "cell_type": "markdown",
   "id": "vanilla-electronics",
   "metadata": {},
   "source": [
    "Example 1:\n",
    "\n",
    "Input: arr = [3,5,1]\n",
    "Output: true\n",
    "Explanation: We can reorder the elements as [1,3,5] or [5,3,1] with differences 2 and -2 respectively, between each consecutive elements."
   ]
  },
  {
   "cell_type": "markdown",
   "id": "hazardous-excuse",
   "metadata": {},
   "source": [
    "<br>"
   ]
  },
  {
   "cell_type": "markdown",
   "id": "statistical-idaho",
   "metadata": {},
   "source": [
    "Example 2:\n",
    "\n",
    "Input: arr = [1,2,4]\n",
    "Output: false\n",
    "Explanation: There is no way to reorder the elements to obtain an arithmetic progression."
   ]
  },
  {
   "cell_type": "code",
   "execution_count": 53,
   "id": "architectural-variation",
   "metadata": {},
   "outputs": [],
   "source": [
    "def canMakeArithmeticProgression(arr):\n",
    "    arr.sort()\n",
    "    difference = arr[1] - arr[0]\n",
    "    i = 0\n",
    "    while i < len(arr) -1:\n",
    "        if arr[i+1] - arr[i] != difference:\n",
    "            return False\n",
    "        i += 1\n",
    "    return True"
   ]
  },
  {
   "cell_type": "code",
   "execution_count": 54,
   "id": "chicken-drove",
   "metadata": {},
   "outputs": [
    {
     "data": {
      "text/plain": [
       "True"
      ]
     },
     "execution_count": 54,
     "metadata": {},
     "output_type": "execute_result"
    }
   ],
   "source": [
    "canMakeArithmeticProgression([3,5,1]) #should return true"
   ]
  },
  {
   "cell_type": "code",
   "execution_count": 55,
   "id": "french-design",
   "metadata": {},
   "outputs": [
    {
     "data": {
      "text/plain": [
       "False"
      ]
     },
     "execution_count": 55,
     "metadata": {},
     "output_type": "execute_result"
    }
   ],
   "source": [
    "canMakeArithmeticProgression([1,2,4]) #should return false"
   ]
  },
  {
   "cell_type": "code",
   "execution_count": 56,
   "id": "rubber-party",
   "metadata": {},
   "outputs": [
    {
     "data": {
      "text/plain": [
       "True"
      ]
     },
     "execution_count": 56,
     "metadata": {},
     "output_type": "execute_result"
    }
   ],
   "source": [
    "canMakeArithmeticProgression([-5,-15,-10]) #should return true"
   ]
  },
  {
   "cell_type": "code",
   "execution_count": null,
   "id": "caring-white",
   "metadata": {},
   "outputs": [],
   "source": []
  }
 ],
 "metadata": {
  "kernelspec": {
   "display_name": "Python 3",
   "language": "python",
   "name": "python3"
  },
  "language_info": {
   "codemirror_mode": {
    "name": "ipython",
    "version": 3
   },
   "file_extension": ".py",
   "mimetype": "text/x-python",
   "name": "python",
   "nbconvert_exporter": "python",
   "pygments_lexer": "ipython3",
   "version": "3.9.0"
  }
 },
 "nbformat": 4,
 "nbformat_minor": 5
}
